{
 "cells": [
  {
   "cell_type": "markdown",
   "metadata": {},
   "source": [
    "#### We want to determine which questions will be answered with a single PERSON. In this notebook, we will:\n",
    "0. Load in positives and negatives and format into a training and validation set\n",
    "1. Train and save a CNN text classifer using the spaCy and thinc"
   ]
  },
  {
   "cell_type": "markdown",
   "metadata": {},
   "source": [
    "##### Step 0. Load and format the training data"
   ]
  },
  {
   "cell_type": "code",
   "execution_count": 1,
   "metadata": {},
   "outputs": [],
   "source": [
    "import pickle\n",
    "from sklearn.model_selection import train_test_split\n",
    "\n",
    "with open(\"../data/positives.pkl\", \"rb\") as f:\n",
    "    positives = pickle.load(f)\n",
    "with open(\"../data/negatives.pkl\", \"rb\") as f:\n",
    "    negatives = pickle.load(f)\n",
    "\n",
    "pos_texts = [positive['question'] for positive in positives]\n",
    "neg_texts = [negative['question'] for negative in negatives]\n",
    "pos_cats = [{\"POSITIVE\": True, \"NEGATIVE\": False} for _ in positives]\n",
    "neg_cats = [{\"POSITIVE\": False, \"NEGATIVE\": True} for _ in negatives]\n",
    "train_texts, dev_texts, train_cats, dev_cats = train_test_split(pos_texts + neg_texts, pos_cats + neg_cats, test_size=0.2, random_state=1)"
   ]
  },
  {
   "cell_type": "markdown",
   "metadata": {},
   "source": [
    "##### Step 1. Load and format the training data"
   ]
  },
  {
   "cell_type": "code",
   "execution_count": 4,
   "metadata": {},
   "outputs": [
    {
     "name": "stdout",
     "output_type": "stream",
     "text": [
      "Training the model...\n",
      "LOSS \t  P  \t  R  \t  F  \n",
      "4.270\t0.706\t0.805\t0.752\n",
      "0.167\t0.717\t0.806\t0.759\n",
      "0.151\t0.728\t0.800\t0.762\n",
      "0.133\t0.731\t0.791\t0.760\n",
      "0.119\t0.731\t0.787\t0.758\n",
      "0.102\t0.729\t0.776\t0.752\n",
      "0.086\t0.729\t0.769\t0.749\n",
      "0.072\t0.734\t0.771\t0.752\n",
      "0.061\t0.733\t0.755\t0.744\n",
      "0.054\t0.729\t0.743\t0.736\n"
     ]
    }
   ],
   "source": [
    "# Step 2b. Train the model\n",
    "import os\n",
    "import random\n",
    "from pathlib import Path\n",
    "\n",
    "import spacy\n",
    "from spacy.util import minibatch, compounding\n",
    "\n",
    "\n",
    "def evaluate(tokenizer, textcat, texts, cats):\n",
    "    docs = (tokenizer(text) for text in texts)\n",
    "    tp = 0.0  # True positives\n",
    "    fp = 1e-8  # False positives\n",
    "    fn = 1e-8  # False negatives\n",
    "    tn = 0.0  # True negatives\n",
    "    for i, doc in enumerate(textcat.pipe(docs)):\n",
    "        gold = cats[i]\n",
    "        for label, score in doc.cats.items():\n",
    "            if label not in gold:\n",
    "                continue\n",
    "            if label == \"NEGATIVE\":\n",
    "                continue\n",
    "            if score >= 0.5 and gold[label] >= 0.5:\n",
    "                tp += 1.0\n",
    "            elif score >= 0.5 and gold[label] < 0.5:\n",
    "                fp += 1.0\n",
    "            elif score < 0.5 and gold[label] < 0.5:\n",
    "                tn += 1\n",
    "            elif score < 0.5 and gold[label] >= 0.5:\n",
    "                fn += 1\n",
    "    precision = tp / (tp + fp)\n",
    "    recall = tp / (tp + fn)\n",
    "    if (precision + recall) == 0:\n",
    "        f_score = 0.0\n",
    "    else:\n",
    "        f_score = 2 * (precision * recall) / (precision + recall)\n",
    "    return {\"textcat_p\": precision, \"textcat_r\": recall, \"textcat_f\": f_score}\n",
    "\n",
    "\n",
    "nlp = spacy.blank(\"en\")\n",
    "\n",
    "if \"textcat\" not in nlp.pipe_names:\n",
    "    textcat = nlp.create_pipe(\n",
    "        \"textcat\", config={\"exclusive_classes\": True, \"architecture\": \"simple_cnn\"}\n",
    "    )\n",
    "    nlp.add_pipe(textcat, last=True)\n",
    "else:\n",
    "    textcat = nlp.get_pipe(\"textcat\")\n",
    "\n",
    "# add label to text classifier\n",
    "textcat.add_label(\"POSITIVE\")\n",
    "textcat.add_label(\"NEGATIVE\")\n",
    "\n",
    "train_data = list(zip(train_texts, [{\"cats\": cats} for cats in train_cats]))\n",
    "# get names of other pipes to disable them during training\n",
    "other_pipes = [pipe for pipe in nlp.pipe_names if pipe != \"textcat\"]\n",
    "with nlp.disable_pipes(*other_pipes):  # only train textcat\n",
    "    optimizer = nlp.begin_training()\n",
    "    print(\"Training the model...\")\n",
    "    print(\"{:^5}\\t{:^5}\\t{:^5}\\t{:^5}\".format(\"LOSS\", \"P\", \"R\", \"F\"))\n",
    "    batch_sizes = compounding(4.0, 32.0, 1.001)\n",
    "    for i in range(10):\n",
    "        losses = {}\n",
    "        random.shuffle(train_data)\n",
    "        batches = minibatch(train_data, size=batch_sizes)\n",
    "        for batch in batches:\n",
    "            texts, annotations = zip(*batch)\n",
    "            nlp.update(texts, annotations, sgd=optimizer, drop=0.2, losses=losses)\n",
    "        with textcat.model.use_params(optimizer.averages):\n",
    "            scores = evaluate(nlp.tokenizer, textcat, dev_texts, dev_cats)\n",
    "        print(\n",
    "            \"{0:.3f}\\t{1:.3f}\\t{2:.3f}\\t{3:.3f}\".format(  # print a simple table\n",
    "                losses[\"textcat\"],\n",
    "                scores[\"textcat_p\"],\n",
    "                scores[\"textcat_r\"],\n",
    "                scores[\"textcat_f\"],\n",
    "            )\n",
    "        )\n",
    "        folder_name = f\"../models/epoch{i}\"\n",
    "        os.mkdir(folder_name)\n",
    "        with nlp.use_params(optimizer.averages):\n",
    "            nlp.to_disk(folder_name)"
   ]
  },
  {
   "cell_type": "markdown",
   "metadata": {},
   "source": [
    "##### Step 2. Randomly sample results from textcat on test data"
   ]
  },
  {
   "cell_type": "code",
   "execution_count": 14,
   "metadata": {},
   "outputs": [
    {
     "name": "stdout",
     "output_type": "stream",
     "text": [
      "Question: 'This type of yoga is Sanskrit for \"discipline of force\" & it's better than none'\n",
      "Answer: hatha yoga\n",
      "Score: {'POSITIVE': 9.62425401667133e-05, 'NEGATIVE': 0.9999037981033325}\n",
      "\n",
      "Question: '4 treaties to mitigate the horrors of war were signed in this city in August 1949'\n",
      "Answer: Geneva\n",
      "Score: {'POSITIVE': 7.687673496548086e-05, 'NEGATIVE': 0.9999231100082397}\n",
      "\n",
      "Question: 'On Dec. 13, 1937 Japan took over the city of Nanking in this Asian country after heavy fighting'\n",
      "Answer: China\n",
      "Score: {'POSITIVE': 0.00034473929554224014, 'NEGATIVE': 0.9996552467346191}\n",
      "\n",
      "Question: 'It's the island where Fay Wray first encountered King Kong; to think of its name, use your \"head\"'\n",
      "Answer: Skull Island\n",
      "Score: {'POSITIVE': 0.0018007828621193767, 'NEGATIVE': 0.9981992840766907}\n",
      "\n",
      "Question: 'The Metropolitan Museum of Art paid a record $143,352 for the oldest hand-painted complete deck of these'\n",
      "Answer: Playing cards\n",
      "Score: {'POSITIVE': 0.001831972156651318, 'NEGATIVE': 0.9981679916381836}\n",
      "\n",
      "Question: 'Whooping cranes whoop it up mainly on this continent'\n",
      "Answer: North America\n",
      "Score: {'POSITIVE': 1.24948172697259e-07, 'NEGATIVE': 0.9999998807907104}\n",
      "\n",
      "Question: 'Julius Erving,<br />Charles Barkley'\n",
      "Answer: the 76ers\n",
      "Score: {'POSITIVE': 2.0232947406384483e-07, 'NEGATIVE': 0.9999997615814209}\n",
      "\n",
      "Question: 'Night blindness may come from a deficiency of this vitamin also called retinol'\n",
      "Answer: Vitamin A\n",
      "Score: {'POSITIVE': 1.8379192624706775e-05, 'NEGATIVE': 0.9999816417694092}\n",
      "\n",
      "Question: 'Lebanese designer Elie Saab created the gown she wore at the 1999 coronation of her husband, King Abdullah'\n",
      "Answer: Rania\n",
      "Score: {'POSITIVE': 0.8545047044754028, 'NEGATIVE': 0.1454952508211136}\n",
      "\n",
      "Question: '(Hi, I'm Brooke Burns of <i>Baywatch</i>.) 1987's \"Back to the Beach\" reunited this team from the beach party movies of the '60s'\n",
      "Answer: Frankie Avalon & Annette Funicello\n",
      "Score: {'POSITIVE': 0.01979249343276024, 'NEGATIVE': 0.9802075028419495}\n",
      "\n",
      "Question: '(<a href=\"http://www.j-archive.com/media/2010-02-05_J_26.wmv\">Jimmy of the Clue Crew stands in flowing water in Israel.</a>)  The book of Mark recounts how believers, including Jesus, were baptized in the Jordan River by this man'\n",
      "Answer: John the Baptist\n",
      "Score: {'POSITIVE': 0.2759627401828766, 'NEGATIVE': 0.724037230014801}\n",
      "\n"
     ]
    }
   ],
   "source": [
    "import pickle\n",
    "with open('../data/raw_test.pkl', 'rb') as f:\n",
    "     raw_test = pickle.load(f)\n",
    "        \n",
    "raw_test_questions = map(lambda item: item['question'], raw_test)\n",
    "\n",
    "nlp_infer = spacy.load(\"../models/epoch2\")\n",
    "for index, (doc, context) in enumerate(nlp_infer.pipe(zip(raw_test_questions, raw_test), as_tuples=True)):\n",
    "    print(f\"Question: {context['question']}\")\n",
    "    print(f\"Answer: {context['answer']}\")\n",
    "    print(f\"Score: {doc.cats}\" + \"\\n\")\n",
    "    if index > 9:\n",
    "        break"
   ]
  },
  {
   "cell_type": "markdown",
   "metadata": {},
   "source": [
    "##### Step 3: Investigate the Positive hits from textcat on test data"
   ]
  },
  {
   "cell_type": "code",
   "execution_count": null,
   "metadata": {},
   "outputs": [],
   "source": [
    "import pickle\n",
    "with open('../data/raw_test.pkl', 'rb') as f:\n",
    "     raw_test = pickle.load(f)\n",
    "        \n",
    "raw_test_questions = map(lambda item: item['question'], raw_test)\n",
    "\n",
    "nlp_infer = spacy.load(\"../models/epoch2\")\n",
    "hits = []\n",
    "for index, (doc, context) in enumerate(nlp_infer.pipe(zip(raw_test_questions, raw_test), as_tuples=True)):\n",
    "    if doc.cats['POSITIVE'] > 0.5:\n",
    "        hits.append((doc.cats, context))"
   ]
  }
 ],
 "metadata": {
  "kernelspec": {
   "display_name": "Python 3",
   "language": "python",
   "name": "python3"
  },
  "language_info": {
   "codemirror_mode": {
    "name": "ipython",
    "version": 3
   },
   "file_extension": ".py",
   "mimetype": "text/x-python",
   "name": "python",
   "nbconvert_exporter": "python",
   "pygments_lexer": "ipython3",
   "version": "3.7.5"
  }
 },
 "nbformat": 4,
 "nbformat_minor": 4
}
