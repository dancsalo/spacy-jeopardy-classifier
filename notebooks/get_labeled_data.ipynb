{
 "cells": [
  {
   "cell_type": "code",
   "execution_count": 2,
   "metadata": {
    "collapsed": true,
    "jupyter": {
     "outputs_hidden": true
    }
   },
   "outputs": [
    {
     "name": "stdout",
     "output_type": "stream",
     "text": [
      "Requirement already satisfied: sklearn in /Users/dsalo/Developer/miniconda3/envs/twint/lib/python3.7/site-packages (0.0)\n",
      "Requirement already satisfied: scikit-learn in /Users/dsalo/Developer/miniconda3/envs/twint/lib/python3.7/site-packages (from sklearn) (0.22)\n",
      "Requirement already satisfied: numpy>=1.11.0 in /Users/dsalo/Developer/miniconda3/envs/twint/lib/python3.7/site-packages (from scikit-learn->sklearn) (1.17.4)\n",
      "Requirement already satisfied: scipy>=0.17.0 in /Users/dsalo/.local/lib/python3.7/site-packages (from scikit-learn->sklearn) (1.1.0)\n",
      "Requirement already satisfied: joblib>=0.11 in /Users/dsalo/Developer/miniconda3/envs/twint/lib/python3.7/site-packages (from scikit-learn->sklearn) (0.14.1)\n",
      "Requirement already satisfied: spacy in /Users/dsalo/Developer/miniconda3/envs/twint/lib/python3.7/site-packages (2.2.3)\n",
      "Requirement already satisfied: murmurhash<1.1.0,>=0.28.0 in /Users/dsalo/Developer/miniconda3/envs/twint/lib/python3.7/site-packages (from spacy) (1.0.2)\n",
      "Requirement already satisfied: wasabi<1.1.0,>=0.4.0 in /Users/dsalo/Developer/miniconda3/envs/twint/lib/python3.7/site-packages (from spacy) (0.5.0)\n",
      "Requirement already satisfied: preshed<3.1.0,>=3.0.2 in /Users/dsalo/Developer/miniconda3/envs/twint/lib/python3.7/site-packages (from spacy) (3.0.2)\n",
      "Requirement already satisfied: catalogue<1.1.0,>=0.0.7 in /Users/dsalo/Developer/miniconda3/envs/twint/lib/python3.7/site-packages (from spacy) (0.2.0)\n",
      "Requirement already satisfied: cymem<2.1.0,>=2.0.2 in /Users/dsalo/Developer/miniconda3/envs/twint/lib/python3.7/site-packages (from spacy) (2.0.3)\n",
      "Requirement already satisfied: blis<0.5.0,>=0.4.0 in /Users/dsalo/Developer/miniconda3/envs/twint/lib/python3.7/site-packages (from spacy) (0.4.1)\n",
      "Requirement already satisfied: plac<1.2.0,>=0.9.6 in /Users/dsalo/Developer/miniconda3/envs/twint/lib/python3.7/site-packages (from spacy) (1.1.3)\n",
      "Requirement already satisfied: srsly<1.1.0,>=0.1.0 in /Users/dsalo/Developer/miniconda3/envs/twint/lib/python3.7/site-packages (from spacy) (0.2.0)\n",
      "Requirement already satisfied: requests<3.0.0,>=2.13.0 in /Users/dsalo/Developer/miniconda3/envs/twint/lib/python3.7/site-packages (from spacy) (2.22.0)\n",
      "Requirement already satisfied: numpy>=1.15.0 in /Users/dsalo/Developer/miniconda3/envs/twint/lib/python3.7/site-packages (from spacy) (1.17.4)\n",
      "Requirement already satisfied: setuptools in /Users/dsalo/Developer/miniconda3/envs/twint/lib/python3.7/site-packages (from spacy) (42.0.2.post20191203)\n",
      "Requirement already satisfied: thinc<7.4.0,>=7.3.0 in /Users/dsalo/Developer/miniconda3/envs/twint/lib/python3.7/site-packages (from spacy) (7.3.1)\n",
      "Requirement already satisfied: importlib-metadata>=0.20; python_version < \"3.8\" in /Users/dsalo/Developer/miniconda3/envs/twint/lib/python3.7/site-packages (from catalogue<1.1.0,>=0.0.7->spacy) (1.3.0)\n",
      "Requirement already satisfied: certifi>=2017.4.17 in /Users/dsalo/Developer/miniconda3/envs/twint/lib/python3.7/site-packages (from requests<3.0.0,>=2.13.0->spacy) (2019.11.28)\n",
      "Requirement already satisfied: idna<2.9,>=2.5 in /Users/dsalo/Developer/miniconda3/envs/twint/lib/python3.7/site-packages (from requests<3.0.0,>=2.13.0->spacy) (2.8)\n",
      "Requirement already satisfied: urllib3!=1.25.0,!=1.25.1,<1.26,>=1.21.1 in /Users/dsalo/Developer/miniconda3/envs/twint/lib/python3.7/site-packages (from requests<3.0.0,>=2.13.0->spacy) (1.25.7)\n",
      "Requirement already satisfied: chardet<3.1.0,>=3.0.2 in /Users/dsalo/Developer/miniconda3/envs/twint/lib/python3.7/site-packages (from requests<3.0.0,>=2.13.0->spacy) (3.0.4)\n",
      "Requirement already satisfied: tqdm<5.0.0,>=4.10.0 in /Users/dsalo/Developer/miniconda3/envs/twint/lib/python3.7/site-packages (from thinc<7.4.0,>=7.3.0->spacy) (4.40.2)\n",
      "Requirement already satisfied: zipp>=0.5 in /Users/dsalo/Developer/miniconda3/envs/twint/lib/python3.7/site-packages (from importlib-metadata>=0.20; python_version < \"3.8\"->catalogue<1.1.0,>=0.0.7->spacy) (0.6.0)\n",
      "Requirement already satisfied: more-itertools in /Users/dsalo/Developer/miniconda3/envs/twint/lib/python3.7/site-packages (from zipp>=0.5->importlib-metadata>=0.20; python_version < \"3.8\"->catalogue<1.1.0,>=0.0.7->spacy) (8.0.2)\n",
      "Requirement already satisfied: en_core_web_sm==2.2.5 from https://github.com/explosion/spacy-models/releases/download/en_core_web_sm-2.2.5/en_core_web_sm-2.2.5.tar.gz#egg=en_core_web_sm==2.2.5 in /Users/dsalo/Developer/miniconda3/envs/twint/lib/python3.7/site-packages (2.2.5)\n",
      "Requirement already satisfied: spacy>=2.2.2 in /Users/dsalo/Developer/miniconda3/envs/twint/lib/python3.7/site-packages (from en_core_web_sm==2.2.5) (2.2.3)\n",
      "Requirement already satisfied: numpy>=1.15.0 in /Users/dsalo/Developer/miniconda3/envs/twint/lib/python3.7/site-packages (from spacy>=2.2.2->en_core_web_sm==2.2.5) (1.17.4)\n",
      "Requirement already satisfied: cymem<2.1.0,>=2.0.2 in /Users/dsalo/Developer/miniconda3/envs/twint/lib/python3.7/site-packages (from spacy>=2.2.2->en_core_web_sm==2.2.5) (2.0.3)\n",
      "Requirement already satisfied: murmurhash<1.1.0,>=0.28.0 in /Users/dsalo/Developer/miniconda3/envs/twint/lib/python3.7/site-packages (from spacy>=2.2.2->en_core_web_sm==2.2.5) (1.0.2)\n",
      "Requirement already satisfied: thinc<7.4.0,>=7.3.0 in /Users/dsalo/Developer/miniconda3/envs/twint/lib/python3.7/site-packages (from spacy>=2.2.2->en_core_web_sm==2.2.5) (7.3.1)\n",
      "Requirement already satisfied: blis<0.5.0,>=0.4.0 in /Users/dsalo/Developer/miniconda3/envs/twint/lib/python3.7/site-packages (from spacy>=2.2.2->en_core_web_sm==2.2.5) (0.4.1)\n",
      "Requirement already satisfied: catalogue<1.1.0,>=0.0.7 in /Users/dsalo/Developer/miniconda3/envs/twint/lib/python3.7/site-packages (from spacy>=2.2.2->en_core_web_sm==2.2.5) (0.2.0)\n",
      "Requirement already satisfied: plac<1.2.0,>=0.9.6 in /Users/dsalo/Developer/miniconda3/envs/twint/lib/python3.7/site-packages (from spacy>=2.2.2->en_core_web_sm==2.2.5) (1.1.3)\n",
      "Requirement already satisfied: setuptools in /Users/dsalo/Developer/miniconda3/envs/twint/lib/python3.7/site-packages (from spacy>=2.2.2->en_core_web_sm==2.2.5) (42.0.2.post20191203)\n",
      "Requirement already satisfied: requests<3.0.0,>=2.13.0 in /Users/dsalo/Developer/miniconda3/envs/twint/lib/python3.7/site-packages (from spacy>=2.2.2->en_core_web_sm==2.2.5) (2.22.0)\n",
      "Requirement already satisfied: preshed<3.1.0,>=3.0.2 in /Users/dsalo/Developer/miniconda3/envs/twint/lib/python3.7/site-packages (from spacy>=2.2.2->en_core_web_sm==2.2.5) (3.0.2)\n",
      "Requirement already satisfied: wasabi<1.1.0,>=0.4.0 in /Users/dsalo/Developer/miniconda3/envs/twint/lib/python3.7/site-packages (from spacy>=2.2.2->en_core_web_sm==2.2.5) (0.5.0)\n",
      "Requirement already satisfied: srsly<1.1.0,>=0.1.0 in /Users/dsalo/Developer/miniconda3/envs/twint/lib/python3.7/site-packages (from spacy>=2.2.2->en_core_web_sm==2.2.5) (0.2.0)\n",
      "Requirement already satisfied: tqdm<5.0.0,>=4.10.0 in /Users/dsalo/Developer/miniconda3/envs/twint/lib/python3.7/site-packages (from thinc<7.4.0,>=7.3.0->spacy>=2.2.2->en_core_web_sm==2.2.5) (4.40.2)\n",
      "Requirement already satisfied: importlib-metadata>=0.20; python_version < \"3.8\" in /Users/dsalo/Developer/miniconda3/envs/twint/lib/python3.7/site-packages (from catalogue<1.1.0,>=0.0.7->spacy>=2.2.2->en_core_web_sm==2.2.5) (1.3.0)\n",
      "Requirement already satisfied: urllib3!=1.25.0,!=1.25.1,<1.26,>=1.21.1 in /Users/dsalo/Developer/miniconda3/envs/twint/lib/python3.7/site-packages (from requests<3.0.0,>=2.13.0->spacy>=2.2.2->en_core_web_sm==2.2.5) (1.25.7)\n",
      "Requirement already satisfied: certifi>=2017.4.17 in /Users/dsalo/Developer/miniconda3/envs/twint/lib/python3.7/site-packages (from requests<3.0.0,>=2.13.0->spacy>=2.2.2->en_core_web_sm==2.2.5) (2019.11.28)\n",
      "Requirement already satisfied: chardet<3.1.0,>=3.0.2 in /Users/dsalo/Developer/miniconda3/envs/twint/lib/python3.7/site-packages (from requests<3.0.0,>=2.13.0->spacy>=2.2.2->en_core_web_sm==2.2.5) (3.0.4)\n",
      "Requirement already satisfied: idna<2.9,>=2.5 in /Users/dsalo/Developer/miniconda3/envs/twint/lib/python3.7/site-packages (from requests<3.0.0,>=2.13.0->spacy>=2.2.2->en_core_web_sm==2.2.5) (2.8)\n",
      "Requirement already satisfied: zipp>=0.5 in /Users/dsalo/Developer/miniconda3/envs/twint/lib/python3.7/site-packages (from importlib-metadata>=0.20; python_version < \"3.8\"->catalogue<1.1.0,>=0.0.7->spacy>=2.2.2->en_core_web_sm==2.2.5) (0.6.0)\n",
      "Requirement already satisfied: more-itertools in /Users/dsalo/Developer/miniconda3/envs/twint/lib/python3.7/site-packages (from zipp>=0.5->importlib-metadata>=0.20; python_version < \"3.8\"->catalogue<1.1.0,>=0.0.7->spacy>=2.2.2->en_core_web_sm==2.2.5) (8.0.2)\n",
      "\u001b[38;5;2m✔ Download and installation successful\u001b[0m\n",
      "You can now load the model via spacy.load('en_core_web_sm')\n"
     ]
    }
   ],
   "source": [
    "# Install Dependencies\n",
    "import sys\n",
    "\n",
    "!{sys.executable} -m pip install sklearn\n",
    "!{sys.executable} -m pip install spacy\n",
    "!{sys.executable}  -m spacy download en_core_web_sm"
   ]
  },
  {
   "cell_type": "code",
   "execution_count": 2,
   "metadata": {},
   "outputs": [],
   "source": [
    "# Load Raw Jeopardy! Questions and Answers\n",
    "import json\n",
    "\n",
    "with open('../assets/jeopardy.json', 'r') as f:\n",
    "    raw = json.load(f)"
   ]
  },
  {
   "cell_type": "markdown",
   "metadata": {},
   "source": [
    "#### We want to determine which questions will be answered with a single PERSON. In this notebook, we will:\n",
    "0. Divide corpus into training/validation and test sets.\n",
    "1. Select all pairs from the training set that are a single PERSON according to the built-in spaCy model.\n",
    "2. From these selections, apply high-precision labeling functions to yield positive training examples\n",
    "3. Select all pairs from the training set that are not a single PERSON as negative training examples\n",
    "4. Format and save the output of these functions as training data"
   ]
  },
  {
   "cell_type": "markdown",
   "metadata": {},
   "source": [
    "##### Step 0. 70-10-20 training-validation-test split."
   ]
  },
  {
   "cell_type": "code",
   "execution_count": 5,
   "metadata": {},
   "outputs": [],
   "source": [
    "from sklearn.model_selection import train_test_split\n",
    "\n",
    "raw_train, raw_test = train_test_split(raw, test_size=0.2, random_state=1)\n",
    "raw_train, raw_val = train_test_split(raw_train, test_size=0.2, random_state=1)"
   ]
  },
  {
   "cell_type": "markdown",
   "metadata": {},
   "source": [
    "##### Step 1. Select questions that have answers tagged by spaCy as \"PERSON\"."
   ]
  },
  {
   "cell_type": "code",
   "execution_count": 5,
   "metadata": {},
   "outputs": [
    {
     "name": "stdout",
     "output_type": "stream",
     "text": [
      "Question: 'On Jan. 20, 1977 he became the first veep to reside in the Admiral's House at the U.S. Naval Observatory'\n",
      "Answer: Walter Mondale\n",
      "\n",
      "Question: 'Before becoming attorney general of the U.S., she was state attorney for Dade County, Florida'\n",
      "Answer: Janet Reno\n",
      "\n",
      "Question: 'In a '77 film Diane Keaton was looking for him'\n",
      "Answer: Mr. Goodbar\n",
      "\n",
      "Question: 'He's known for one-man shows like \"Mambo Mouth\" & for film roles like Chi Chi in \"To Wong Foo...\"'\n",
      "Answer: John Leguizamo\n",
      "\n",
      "Question: 'After playing QB Paul Crewe in 1974's \"The Longest Yard\", he played coach Nate Scarborough in the 2005 remake'\n",
      "Answer: Burt Reynolds\n",
      "\n",
      "Question: 'A Brantford, Ontario native, this \"Great One\" has rewritten the NHL record books in his stellar career'\n",
      "Answer: Wayne Gretzky\n",
      "\n",
      "Question: 'Fittingly, Congressman Brad Sherman represents this L.A. suburb, home of the Galleria of \"Valley Girl\" fame'\n",
      "Answer: Sherman Oaks\n",
      "\n",
      "Question: 'He painted \"Irises\" & \"Pink Roses\" as well as \"Sunflowers\"'\n",
      "Answer: Vincent Van Gogh\n",
      "\n",
      "Question: 'She won 2 Emmys as Shultzy on \"The Bob Cummings Show\"; none as Alice on \"The Brady Bunch\"'\n",
      "Answer: Ann B. Davis\n",
      "\n",
      "Question: 'A culinary profession: panadero'\n",
      "Answer: baker (breadmaker acceptable)\n",
      "\n",
      "Question: 'Known as \"Old Fuss N' Feathers\", he wrote the Army's first complete manual of drill regulations'\n",
      "Answer: Winfield Scott\n",
      "\n"
     ]
    }
   ],
   "source": [
    "import spacy\n",
    "\n",
    "nlp = spacy.load('en_core_web_sm')\n",
    "\n",
    "def answer_filter_fn(tuple_):\n",
    "    answer, context = tuple_\n",
    "    return True if len(answer.ents) == 1 and answer.ents[0].label_ == 'PERSON' else False\n",
    "\n",
    "# Print first 10 examples\n",
    "raw_train_answers = map(lambda item: item['answer'], raw_train)\n",
    "for index, (_, context) in enumerate(filter(answer_filter_fn, nlp.pipe(zip(raw_train_answers, raw_train), as_tuples=True))):\n",
    "    print(f\"Question: {context['question']}\")\n",
    "    print(f\"Answer: {context['answer']}\" + \"\\n\")\n",
    "    if index > 9:\n",
    "        break"
   ]
  },
  {
   "cell_type": "markdown",
   "metadata": {},
   "source": [
    "##### Step 2. Select questions that have answers tagged by spaCy as \"PERSON\" and have a matched phrase."
   ]
  },
  {
   "cell_type": "code",
   "execution_count": 7,
   "metadata": {},
   "outputs": [],
   "source": [
    "import spacy\n",
    "from spacy.tokens import Doc, Span\n",
    "from spacy.matcher import Matcher\n",
    "\n",
    "nlp_questions = spacy.load('en_core_web_sm')\n",
    "nlp_answers = spacy.load('en_core_web_sm')\n",
    "\n",
    "\n",
    "# Add Personal Words Component\n",
    "with open('../assets/personal_words.txt', 'r') as f:\n",
    "    OCCUPATIONS = [line.strip() for line in f.readlines()]\n",
    "with open('../assets/others.txt', 'r') as f:\n",
    "    OTHERS = [line.strip() for line in f.readlines()]\n",
    "PERSONALS = OCCUPATIONS + OTHERS\n",
    "    \n",
    "matcher_personal = Matcher(nlp_questions.vocab)\n",
    "matcher_personal.add(\"this_phrase\", [\n",
    "    [{\"LOWER\": \"this\"}, {\"LOWER\": personal}] for personal in PERSONALS\n",
    "])\n",
    "\n",
    "def personal_phrase(doc):\n",
    "    # Apply the matcher to the doc\n",
    "    matches = matcher_personal(doc)\n",
    "    spans = [Span(doc, start, end, label=\"PERSONAL_PHRASE\") for match_id, start, end in matches]\n",
    "    doc.ents = list(doc.ents) + spans\n",
    "    return doc\n",
    "\n",
    "nlp_questions.add_pipe(personal_phrase, before=\"ner\")\n",
    "\n",
    "\n",
    "# Add Personal Pronouns Component\n",
    "matcher_pronoun = Matcher(nlp_questions.vocab)\n",
    "matcher_pronoun.add(\"person_phrase\", [\n",
    "    [{\"TAG\": \"PRP\", \"DEP\": \"nsubj\", \"LOWER\": {\"IN\": [\"he\", \"she\"]}}],\n",
    "])\n",
    "\n",
    "def pronoun_phrase(doc):\n",
    "    # Apply the matcher to the doc\n",
    "    matches = matcher_pronoun(doc)\n",
    "    spans = [Span(doc, start, end, label=\"PRONOUN_PHRASE\") for match_id, start, end in matches]\n",
    "    doc.ents = list(doc.ents) + spans\n",
    "    return doc\n",
    "\n",
    "nlp_questions.add_pipe(pronoun_phrase, before=\"ner\")\n",
    "\n",
    "def text_filter_fn(tuple_):\n",
    "    answer, question = tuple_\n",
    "    if len(answer.ents) == 1 and answer.ents[0].label_ == 'PERSON' and len(answer.ents[0]) == len(answer):\n",
    "        for ent in question.ents:\n",
    "            if ent.label_ == \"PERSONAL_PHRASE\" or ent.label_ == \"PRONOUN_PHRASE\":\n",
    "                return True\n",
    "    return False\n",
    "        \n",
    "# Store positive examples \n",
    "raw_train_questions = map(lambda item: item['question'], raw_train)\n",
    "raw_train_answers = map(lambda item: item['answer'], raw_train)\n",
    "positives = []\n",
    "for answer, question in filter(text_filter_fn, zip(nlp_answers.pipe(raw_train_answers), nlp_questions.pipe(raw_train_questions))):\n",
    "    positives.append({'answer': str(answer), 'question': str(question)})"
   ]
  },
  {
   "cell_type": "markdown",
   "metadata": {},
   "source": [
    "##### Step 3. Select negatives that do not contain a single \"PERSON\"as the answer."
   ]
  },
  {
   "cell_type": "code",
   "execution_count": 8,
   "metadata": {},
   "outputs": [],
   "source": [
    "import spacy\n",
    "\n",
    "nlp = spacy.load('en_core_web_sm')\n",
    "\n",
    "def answer_filter_fn(tuple_):\n",
    "    answer, context = tuple_\n",
    "    return False if len(answer.ents) == 1 and answer.ents[0].label_ == 'PERSON' else True\n",
    "\n",
    "# Store negative examples\n",
    "raw_train_answers = map(lambda item: item['answer'], raw_train)\n",
    "negatives = []\n",
    "for index, (_, context) in enumerate(filter(answer_filter_fn, nlp.pipe(zip(raw_train_answers, raw_train), as_tuples=True))):\n",
    "    negatives.append({'question': context['question'], 'answer': context['answer']})"
   ]
  },
  {
   "cell_type": "markdown",
   "metadata": {},
   "source": [
    "##### Step 4. Save positives and negatives."
   ]
  },
  {
   "cell_type": "code",
   "execution_count": 9,
   "metadata": {},
   "outputs": [],
   "source": [
    "import pickle\n",
    "\n",
    "with open('../data/negatives.pkl', 'wb') as f:\n",
    "    pickle.dump(negatives, f)\n",
    "with open('../data/positives.pkl', 'wb') as f:\n",
    "    pickle.dump(positives, f)\n",
    "with open('../data/raw_test.pkl', 'wb') as f:\n",
    "    pickle.dump(raw_test, f)"
   ]
  }
 ],
 "metadata": {
  "kernelspec": {
   "display_name": "Python 3",
   "language": "python",
   "name": "python3"
  },
  "language_info": {
   "codemirror_mode": {
    "name": "ipython",
    "version": 3
   },
   "file_extension": ".py",
   "mimetype": "text/x-python",
   "name": "python",
   "nbconvert_exporter": "python",
   "pygments_lexer": "ipython3",
   "version": "3.7.5"
  }
 },
 "nbformat": 4,
 "nbformat_minor": 4
}
